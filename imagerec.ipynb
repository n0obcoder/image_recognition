{
 "cells": [
  {
   "cell_type": "code",
   "execution_count": 1,
   "metadata": {
    "collapsed": true
   },
   "outputs": [],
   "source": [
    "from PIL import Image"
   ]
  },
  {
   "cell_type": "code",
   "execution_count": 2,
   "metadata": {
    "collapsed": true
   },
   "outputs": [],
   "source": [
    "import numpy as np"
   ]
  },
  {
   "cell_type": "code",
   "execution_count": 3,
   "metadata": {
    "collapsed": true
   },
   "outputs": [],
   "source": [
    "i = Image.open('images/dot.png')"
   ]
  },
  {
   "cell_type": "code",
   "execution_count": 4,
   "metadata": {},
   "outputs": [
    {
     "data": {
      "text/plain": [
       "PIL.PngImagePlugin.PngImageFile"
      ]
     },
     "execution_count": 4,
     "metadata": {},
     "output_type": "execute_result"
    }
   ],
   "source": [
    "type(i)"
   ]
  },
  {
   "cell_type": "code",
   "execution_count": 5,
   "metadata": {
    "collapsed": true
   },
   "outputs": [],
   "source": [
    "# the location of the png file whose name is dot.png is in the folder \n",
    "# names images which is in the same directory as this .IPYNB file\n",
    "\n",
    "# had it been some other location,we had to specify the exact address of \n",
    "# that dot.png file"
   ]
  },
  {
   "cell_type": "code",
   "execution_count": 6,
   "metadata": {
    "collapsed": true
   },
   "outputs": [],
   "source": [
    "# iar is iamge array\n",
    "iar = np.asarray(i)\n",
    "# this iar is gonan come out as an 3 dim array"
   ]
  },
  {
   "cell_type": "code",
   "execution_count": 7,
   "metadata": {},
   "outputs": [
    {
     "data": {
      "text/plain": [
       "numpy.ndarray"
      ]
     },
     "execution_count": 7,
     "metadata": {},
     "output_type": "execute_result"
    }
   ],
   "source": [
    "type(iar)"
   ]
  },
  {
   "cell_type": "code",
   "execution_count": 8,
   "metadata": {},
   "outputs": [
    {
     "name": "stdout",
     "output_type": "stream",
     "text": [
      "[[[  0   0   0 255]\n",
      "  [255 255 255 255]\n",
      "  [255 255 255 255]\n",
      "  [255 255 255 255]\n",
      "  [255 255 255 255]\n",
      "  [255 255 255 255]\n",
      "  [255 255 255 255]\n",
      "  [255 255 255 255]]\n",
      "\n",
      " [[255 255 255 255]\n",
      "  [255 255 255 255]\n",
      "  [255 255 255 255]\n",
      "  [255 255 255 255]\n",
      "  [255 255 255 255]\n",
      "  [255 255 255 255]\n",
      "  [255 255 255 255]\n",
      "  [255 255 255 255]]\n",
      "\n",
      " [[255 255 255 255]\n",
      "  [255 255 255 255]\n",
      "  [255 255 255 255]\n",
      "  [255 255 255 255]\n",
      "  [255 255 255 255]\n",
      "  [255 255 255 255]\n",
      "  [255 255 255 255]\n",
      "  [255 255 255 255]]\n",
      "\n",
      " [[255 255 255 255]\n",
      "  [255 255 255 255]\n",
      "  [255 255 255 255]\n",
      "  [255 255 255 255]\n",
      "  [255 255 255 255]\n",
      "  [255 255 255 255]\n",
      "  [255 255 255 255]\n",
      "  [255 255 255 255]]\n",
      "\n",
      " [[255 255 255 255]\n",
      "  [255 255 255 255]\n",
      "  [255 255 255 255]\n",
      "  [255 255 255 255]\n",
      "  [255 255 255 255]\n",
      "  [255 255 255 255]\n",
      "  [255 255 255 255]\n",
      "  [255 255 255 255]]\n",
      "\n",
      " [[255 255 255 255]\n",
      "  [255 255 255 255]\n",
      "  [255 255 255 255]\n",
      "  [255 255 255 255]\n",
      "  [255 255 255 255]\n",
      "  [255 255 255 255]\n",
      "  [255 255 255 255]\n",
      "  [255 255 255 255]]\n",
      "\n",
      " [[255 255 255 255]\n",
      "  [255 255 255 255]\n",
      "  [255 255 255 255]\n",
      "  [255 255 255 255]\n",
      "  [255 255 255 255]\n",
      "  [255 255 255 255]\n",
      "  [255 255 255 255]\n",
      "  [255 255 255 255]]\n",
      "\n",
      " [[255 255 255 255]\n",
      "  [255 255 255 255]\n",
      "  [255 255 255 255]\n",
      "  [255 255 255 255]\n",
      "  [255 255 255 255]\n",
      "  [255 255 255 255]\n",
      "  [255 255 255 255]\n",
      "  [255 255 255 255]]]\n"
     ]
    }
   ],
   "source": [
    "print(iar)"
   ]
  },
  {
   "cell_type": "code",
   "execution_count": 9,
   "metadata": {
    "collapsed": true
   },
   "outputs": [],
   "source": [
    "# the entire array is an image\n",
    "\n",
    "# here , we have a list of 8 lists which themselves contain 8 lists\n",
    "\n",
    "# if u open this dot.png in paint u will see that its a 8x8 image\n",
    "# each \n",
    "# [[255 255 255 255]\n",
    "#  [255 255 255 255]\n",
    "#  [255 255 255 255]\n",
    "#  [255 255 255 255]\n",
    "#  [255 255 255 255]\n",
    "#  [255 255 255 255]\n",
    "#  [255 255 255 255]\n",
    "#  [255 255 255 255]]\n",
    "    \n",
    "# is a row.we have a total of 8 rows and in each row we \n",
    "# again have 8 cols \n",
    "\n",
    "# finally we have thr red green blue and the alpha values in the \n",
    "# most fundamental lists "
   ]
  },
  {
   "cell_type": "code",
   "execution_count": 10,
   "metadata": {
    "collapsed": true
   },
   "outputs": [],
   "source": [
    "# lets get matplotlib to plot it up and show us what we are relle doing"
   ]
  },
  {
   "cell_type": "code",
   "execution_count": 11,
   "metadata": {
    "collapsed": true
   },
   "outputs": [],
   "source": [
    "import matplotlib.pyplot as plt"
   ]
  },
  {
   "cell_type": "code",
   "execution_count": 14,
   "metadata": {},
   "outputs": [
    {
     "data": {
      "text/plain": [
       "<matplotlib.image.AxesImage at 0x264717bdef0>"
      ]
     },
     "execution_count": 14,
     "metadata": {},
     "output_type": "execute_result"
    }
   ],
   "source": [
    "plt.imshow(iar)\n",
    "# imshow is image show"
   ]
  },
  {
   "cell_type": "code",
   "execution_count": 15,
   "metadata": {},
   "outputs": [
    {
     "data": {
      "image/png": "[encoded data removed]",
      "text/plain": [
       "<matplotlib.figure.Figure at 0x264714f4278>"
      ]
     },
     "metadata": {},
     "output_type": "display_data"
    }
   ],
   "source": [
    "plt.show()"
   ]
  },
  {
   "cell_type": "code",
   "execution_count": 16,
   "metadata": {
    "collapsed": true
   },
   "outputs": [],
   "source": [
    "# now lets try something else"
   ]
  },
  {
   "cell_type": "code",
   "execution_count": 17,
   "metadata": {
    "collapsed": true
   },
   "outputs": [],
   "source": [
    "i2 = Image.open('images/numbers/y0.4.png')"
   ]
  },
  {
   "cell_type": "code",
   "execution_count": 18,
   "metadata": {
    "collapsed": true
   },
   "outputs": [],
   "source": [
    "iar2 = np.asarray(i2)"
   ]
  },
  {
   "cell_type": "code",
   "execution_count": 19,
   "metadata": {},
   "outputs": [
    {
     "data": {
      "text/plain": [
       "<matplotlib.image.AxesImage at 0x26471851f98>"
      ]
     },
     "execution_count": 19,
     "metadata": {},
     "output_type": "execute_result"
    }
   ],
   "source": [
    "plt.imshow(iar2)"
   ]
  },
  {
   "cell_type": "code",
   "execution_count": 20,
   "metadata": {
    "scrolled": true
   },
   "outputs": [
    {
     "data": {
      "image/png": "[encoded data removed]",
      "text/plain": [
       "<matplotlib.figure.Figure at 0x264717f3dd8>"
      ]
     },
     "metadata": {},
     "output_type": "display_data"
    }
   ],
   "source": [
    "plt.show()"
   ]
  },
  {
   "cell_type": "code",
   "execution_count": 22,
   "metadata": {
    "collapsed": true
   },
   "outputs": [],
   "source": [
    "# we can even write plt.imshow(i2)\n",
    "# and then plt.show()\n",
    "# both works exactcly tthe same way"
   ]
  },
  {
   "cell_type": "code",
   "execution_count": 23,
   "metadata": {},
   "outputs": [
    {
     "name": "stdout",
     "output_type": "stream",
     "text": [
      "[[[255 242   0 255]\n",
      "  [255 242   0 255]\n",
      "  [ 63  72 204 255]\n",
      "  [ 63  72 204 255]\n",
      "  [ 63  72 204 255]\n",
      "  [ 63  72 204 255]\n",
      "  [255 242   0 255]\n",
      "  [255 242   0 255]]\n",
      "\n",
      " [[255 242   0 255]\n",
      "  [ 63  72 204 255]\n",
      "  [255 242   0 255]\n",
      "  [255 242   0 255]\n",
      "  [255 242   0 255]\n",
      "  [255 242   0 255]\n",
      "  [ 63  72 204 255]\n",
      "  [255 242   0 255]]\n",
      "\n",
      " [[ 63  72 204 255]\n",
      "  [255 242   0 255]\n",
      "  [255 242   0 255]\n",
      "  [255 242   0 255]\n",
      "  [255 242   0 255]\n",
      "  [255 242   0 255]\n",
      "  [255 242   0 255]\n",
      "  [ 63  72 204 255]]\n",
      "\n",
      " [[ 63  72 204 255]\n",
      "  [255 242   0 255]\n",
      "  [255 242   0 255]\n",
      "  [255 242   0 255]\n",
      "  [255 242   0 255]\n",
      "  [255 242   0 255]\n",
      "  [255 242   0 255]\n",
      "  [ 63  72 204 255]]\n",
      "\n",
      " [[ 63  72 204 255]\n",
      "  [255 242   0 255]\n",
      "  [255 242   0 255]\n",
      "  [255 242   0 255]\n",
      "  [255 242   0 255]\n",
      "  [255 242   0 255]\n",
      "  [255 242   0 255]\n",
      "  [ 63  72 204 255]]\n",
      "\n",
      " [[ 63  72 204 255]\n",
      "  [255 242   0 255]\n",
      "  [255 242   0 255]\n",
      "  [255 242   0 255]\n",
      "  [255 242   0 255]\n",
      "  [255 242   0 255]\n",
      "  [255 242   0 255]\n",
      "  [ 63  72 204 255]]\n",
      "\n",
      " [[255 242   0 255]\n",
      "  [ 63  72 204 255]\n",
      "  [255 242   0 255]\n",
      "  [255 242   0 255]\n",
      "  [255 242   0 255]\n",
      "  [255 242   0 255]\n",
      "  [ 63  72 204 255]\n",
      "  [255 242   0 255]]\n",
      "\n",
      " [[255 242   0 255]\n",
      "  [255 242   0 255]\n",
      "  [ 63  72 204 255]\n",
      "  [ 63  72 204 255]\n",
      "  [ 63  72 204 255]\n",
      "  [ 63  72 204 255]\n",
      "  [255 242   0 255]\n",
      "  [255 242   0 255]]]\n"
     ]
    }
   ],
   "source": [
    "print (iar2)"
   ]
  },
  {
   "cell_type": "code",
   "execution_count": 24,
   "metadata": {
    "collapsed": true
   },
   "outputs": [],
   "source": [
    "# 0.1.png now "
   ]
  },
  {
   "cell_type": "code",
   "execution_count": 25,
   "metadata": {
    "collapsed": true
   },
   "outputs": [],
   "source": [
    "i3 = Image.open('images/numbers/0.4.png')"
   ]
  },
  {
   "cell_type": "code",
   "execution_count": 26,
   "metadata": {
    "collapsed": true
   },
   "outputs": [],
   "source": [
    "iar3 = np.asarray(i3)"
   ]
  },
  {
   "cell_type": "code",
   "execution_count": 27,
   "metadata": {},
   "outputs": [
    {
     "data": {
      "text/plain": [
       "<matplotlib.image.AxesImage at 0x264718e19b0>"
      ]
     },
     "execution_count": 27,
     "metadata": {},
     "output_type": "execute_result"
    }
   ],
   "source": [
    "plt.imshow(iar3)"
   ]
  },
  {
   "cell_type": "code",
   "execution_count": 29,
   "metadata": {},
   "outputs": [],
   "source": [
    "plt.show()"
   ]
  },
  {
   "cell_type": "code",
   "execution_count": 30,
   "metadata": {},
   "outputs": [
    {
     "data": {
      "text/plain": [
       "array([[[255, 255, 255, 255],\n",
       "        [  0,   0,   0, 255],\n",
       "        [  0,   0,   0, 255],\n",
       "        [  0,   0,   0, 255],\n",
       "        [  0,   0,   0, 255],\n",
       "        [  0,   0,   0, 255],\n",
       "        [  0,   0,   0, 255],\n",
       "        [255, 255, 255, 255]],\n",
       "\n",
       "       [[  0,   0,   0, 255],\n",
       "        [  0,   0,   0, 255],\n",
       "        [255, 255, 255, 255],\n",
       "        [255, 255, 255, 255],\n",
       "        [255, 255, 255, 255],\n",
       "        [255, 255, 255, 255],\n",
       "        [  0,   0,   0, 255],\n",
       "        [  0,   0,   0, 255]],\n",
       "\n",
       "       [[  0,   0,   0, 255],\n",
       "        [255, 255, 255, 255],\n",
       "        [255, 255, 255, 255],\n",
       "        [255, 255, 255, 255],\n",
       "        [255, 255, 255, 255],\n",
       "        [255, 255, 255, 255],\n",
       "        [255, 255, 255, 255],\n",
       "        [  0,   0,   0, 255]],\n",
       "\n",
       "       [[  0,   0,   0, 255],\n",
       "        [255, 255, 255, 255],\n",
       "        [255, 255, 255, 255],\n",
       "        [255, 255, 255, 255],\n",
       "        [255, 255, 255, 255],\n",
       "        [255, 255, 255, 255],\n",
       "        [255, 255, 255, 255],\n",
       "        [  0,   0,   0, 255]],\n",
       "\n",
       "       [[  0,   0,   0, 255],\n",
       "        [255, 255, 255, 255],\n",
       "        [255, 255, 255, 255],\n",
       "        [255, 255, 255, 255],\n",
       "        [255, 255, 255, 255],\n",
       "        [255, 255, 255, 255],\n",
       "        [255, 255, 255, 255],\n",
       "        [  0,   0,   0, 255]],\n",
       "\n",
       "       [[  0,   0,   0, 255],\n",
       "        [255, 255, 255, 255],\n",
       "        [255, 255, 255, 255],\n",
       "        [255, 255, 255, 255],\n",
       "        [255, 255, 255, 255],\n",
       "        [255, 255, 255, 255],\n",
       "        [255, 255, 255, 255],\n",
       "        [  0,   0,   0, 255]],\n",
       "\n",
       "       [[  0,   0,   0, 255],\n",
       "        [  0,   0,   0, 255],\n",
       "        [255, 255, 255, 255],\n",
       "        [255, 255, 255, 255],\n",
       "        [255, 255, 255, 255],\n",
       "        [255, 255, 255, 255],\n",
       "        [  0,   0,   0, 255],\n",
       "        [  0,   0,   0, 255]],\n",
       "\n",
       "       [[255, 255, 255, 255],\n",
       "        [  0,   0,   0, 255],\n",
       "        [  0,   0,   0, 255],\n",
       "        [  0,   0,   0, 255],\n",
       "        [  0,   0,   0, 255],\n",
       "        [  0,   0,   0, 255],\n",
       "        [  0,   0,   0, 255],\n",
       "        [255, 255, 255, 255]]], dtype=uint8)"
      ]
     },
     "execution_count": 30,
     "metadata": {},
     "output_type": "execute_result"
    }
   ],
   "source": [
    "iar3"
   ]
  },
  {
   "cell_type": "code",
   "execution_count": 31,
   "metadata": {
    "collapsed": true
   },
   "outputs": [],
   "source": [
    "# another one,  y0.5.png"
   ]
  },
  {
   "cell_type": "code",
   "execution_count": 32,
   "metadata": {
    "collapsed": true
   },
   "outputs": [],
   "source": [
    "i4 = Image.open('images/numbers/y0.5.png')"
   ]
  },
  {
   "cell_type": "code",
   "execution_count": 33,
   "metadata": {
    "collapsed": true
   },
   "outputs": [],
   "source": [
    "iar4 = np.asarray(i4)"
   ]
  },
  {
   "cell_type": "code",
   "execution_count": 37,
   "metadata": {},
   "outputs": [
    {
     "data": {
      "text/plain": [
       "numpy.ndarray"
      ]
     },
     "execution_count": 37,
     "metadata": {},
     "output_type": "execute_result"
    }
   ],
   "source": [
    "type(iar4)"
   ]
  },
  {
   "cell_type": "code",
   "execution_count": 34,
   "metadata": {},
   "outputs": [
    {
     "name": "stdout",
     "output_type": "stream",
     "text": [
      "[[[255 242   0 255]\n",
      "  [255 242   0 255]\n",
      "  [239 228 176 255]\n",
      "  [239 228 176 255]\n",
      "  [239 228 176 255]\n",
      "  [239 228 176 255]\n",
      "  [255 242   0 255]\n",
      "  [255 242   0 255]]\n",
      "\n",
      " [[255 242   0 255]\n",
      "  [239 228 176 255]\n",
      "  [255 242   0 255]\n",
      "  [255 242   0 255]\n",
      "  [255 242   0 255]\n",
      "  [255 242   0 255]\n",
      "  [239 228 176 255]\n",
      "  [255 242   0 255]]\n",
      "\n",
      " [[239 228 176 255]\n",
      "  [255 242   0 255]\n",
      "  [255 242   0 255]\n",
      "  [255 242   0 255]\n",
      "  [255 242   0 255]\n",
      "  [255 242   0 255]\n",
      "  [255 242   0 255]\n",
      "  [239 228 176 255]]\n",
      "\n",
      " [[239 228 176 255]\n",
      "  [255 242   0 255]\n",
      "  [255 242   0 255]\n",
      "  [255 242   0 255]\n",
      "  [255 242   0 255]\n",
      "  [255 242   0 255]\n",
      "  [255 242   0 255]\n",
      "  [239 228 176 255]]\n",
      "\n",
      " [[239 228 176 255]\n",
      "  [255 242   0 255]\n",
      "  [255 242   0 255]\n",
      "  [255 242   0 255]\n",
      "  [255 242   0 255]\n",
      "  [255 242   0 255]\n",
      "  [255 242   0 255]\n",
      "  [239 228 176 255]]\n",
      "\n",
      " [[239 228 176 255]\n",
      "  [255 242   0 255]\n",
      "  [255 242   0 255]\n",
      "  [255 242   0 255]\n",
      "  [255 242   0 255]\n",
      "  [255 242   0 255]\n",
      "  [255 242   0 255]\n",
      "  [239 228 176 255]]\n",
      "\n",
      " [[255 242   0 255]\n",
      "  [239 228 176 255]\n",
      "  [255 242   0 255]\n",
      "  [255 242   0 255]\n",
      "  [255 242   0 255]\n",
      "  [255 242   0 255]\n",
      "  [239 228 176 255]\n",
      "  [255 242   0 255]]\n",
      "\n",
      " [[255 242   0 255]\n",
      "  [255 242   0 255]\n",
      "  [239 228 176 255]\n",
      "  [239 228 176 255]\n",
      "  [239 228 176 255]\n",
      "  [239 228 176 255]\n",
      "  [255 242   0 255]\n",
      "  [255 242   0 255]]]\n"
     ]
    }
   ],
   "source": [
    "print(iar4)"
   ]
  },
  {
   "cell_type": "code",
   "execution_count": 38,
   "metadata": {},
   "outputs": [
    {
     "data": {
      "text/plain": [
       "(8, 8, 4)"
      ]
     },
     "execution_count": 38,
     "metadata": {},
     "output_type": "execute_result"
    }
   ],
   "source": [
    "iar4.shape"
   ]
  },
  {
   "cell_type": "code",
   "execution_count": 35,
   "metadata": {},
   "outputs": [
    {
     "data": {
      "text/plain": [
       "<matplotlib.image.AxesImage at 0x26471976320>"
      ]
     },
     "execution_count": 35,
     "metadata": {},
     "output_type": "execute_result"
    }
   ],
   "source": [
    "plt.imshow(i4)"
   ]
  },
  {
   "cell_type": "code",
   "execution_count": 36,
   "metadata": {},
   "outputs": [
    {
     "data": {
      "image/png": "[encoded data removed]",
      "text/plain": [
       "<matplotlib.figure.Figure at 0x2647190e470>"
      ]
     },
     "metadata": {},
     "output_type": "display_data"
    }
   ],
   "source": [
    "plt.show()"
   ]
  },
  {
   "cell_type": "code",
   "execution_count": 88,
   "metadata": {
    "collapsed": true
   },
   "outputs": [],
   "source": [
    "# all these are the exact same zeroes but in different colors.\n",
    "# this one is hard to tell even by our eyeballs"
   ]
  },
  {
   "cell_type": "code",
   "execution_count": 89,
   "metadata": {
    "collapsed": true
   },
   "outputs": [],
   "source": [
    "# for computers these are different numbers but the pattern \n",
    "# seems to be similar"
   ]
  },
  {
   "cell_type": "code",
   "execution_count": 90,
   "metadata": {
    "collapsed": true
   },
   "outputs": [],
   "source": [
    "# the issues that computers are gonna have at OCR is not that these\n",
    "# colors are similar but therre might be the blur to the image"
   ]
  },
  {
   "cell_type": "code",
   "execution_count": 91,
   "metadata": {
    "collapsed": true
   },
   "outputs": [],
   "source": [
    "# thats why capthas are blurry sometimes"
   ]
  },
  {
   "cell_type": "code",
   "execution_count": 1,
   "metadata": {
    "collapsed": true
   },
   "outputs": [],
   "source": [
    "#.........................................................................."
   ]
  },
  {
   "cell_type": "code",
   "execution_count": 93,
   "metadata": {
    "collapsed": true
   },
   "outputs": [],
   "source": [
    "# coming up next is THRESHOLDING !!!"
   ]
  },
  {
   "cell_type": "code",
   "execution_count": 2,
   "metadata": {
    "collapsed": true
   },
   "outputs": [],
   "source": [
    "#.........................................................................."
   ]
  },
  {
   "cell_type": "code",
   "execution_count": 3,
   "metadata": {
    "collapsed": true
   },
   "outputs": [],
   "source": [
    "# lets convert the image into a purely BW image"
   ]
  },
  {
   "cell_type": "code",
   "execution_count": 44,
   "metadata": {},
   "outputs": [
    {
     "data": {
      "text/plain": [
       "(1366, 768)"
      ]
     },
     "execution_count": 44,
     "metadata": {},
     "output_type": "execute_result"
    }
   ],
   "source": [
    "from PIL import Image \n",
    "i = Image.open('images/Untitled3.png')\n",
    "iar = np.array(i)\n",
    "i.size"
   ]
  },
  {
   "cell_type": "code",
   "execution_count": null,
   "metadata": {
    "collapsed": true
   },
   "outputs": [],
   "source": []
  }
 ],
 "metadata": {
  "kernelspec": {
   "display_name": "Python 3",
   "language": "python",
   "name": "python3"
  },
  "language_info": {
   "codemirror_mode": {
    "name": "ipython",
    "version": 3
   },
   "file_extension": ".py",
   "mimetype": "text/x-python",
   "name": "python",
   "nbconvert_exporter": "python",
   "pygments_lexer": "ipython3",
   "version": "3.6.2"
  }
 },
 "nbformat": 4,
 "nbformat_minor": 2
}
